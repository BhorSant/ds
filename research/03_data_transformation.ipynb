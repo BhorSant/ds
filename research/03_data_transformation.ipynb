{
 "cells": [
  {
   "cell_type": "code",
   "execution_count": 1,
   "metadata": {},
   "outputs": [],
   "source": [
    "import os"
   ]
  },
  {
   "cell_type": "code",
   "execution_count": 2,
   "metadata": {},
   "outputs": [
    {
     "data": {
      "text/plain": [
       "'c:\\\\Users\\\\DELL\\\\ds\\\\research'"
      ]
     },
     "execution_count": 2,
     "metadata": {},
     "output_type": "execute_result"
    }
   ],
   "source": [
    "%pwd"
   ]
  },
  {
   "cell_type": "code",
   "execution_count": 3,
   "metadata": {},
   "outputs": [],
   "source": [
    "os.chdir(\"../\")"
   ]
  },
  {
   "cell_type": "code",
   "execution_count": 4,
   "metadata": {},
   "outputs": [
    {
     "data": {
      "text/plain": [
       "'c:\\\\Users\\\\DELL\\\\ds'"
      ]
     },
     "execution_count": 4,
     "metadata": {},
     "output_type": "execute_result"
    }
   ],
   "source": [
    "%pwd"
   ]
  },
  {
   "cell_type": "code",
   "execution_count": 5,
   "metadata": {},
   "outputs": [],
   "source": [
    "# entity\n",
    "from dataclasses import dataclass\n",
    "from pathlib import Path\n",
    "\n",
    "@dataclass(frozen=True)\n",
    "class DataTransformationConfig:\n",
    "    root_dir: Path\n",
    "    data_path: Path"
   ]
  },
  {
   "cell_type": "code",
   "execution_count": 6,
   "metadata": {},
   "outputs": [],
   "source": [
    "from mlProject.constants import *\n",
    "from mlProject.utils.common import read_yaml, create_directories\n"
   ]
  },
  {
   "cell_type": "code",
   "execution_count": 7,
   "metadata": {},
   "outputs": [],
   "source": [
    "class ConfigurationManager:\n",
    "    def __init__(\n",
    "        self,\n",
    "        config_filepath = CONFIG_FILE_PATH,\n",
    "        params_filepath = PARAMS_FILE_PATH\n",
    "    ):\n",
    "        self.config = read_yaml(config_filepath)\n",
    "        self.params = read_yaml(params_filepath)\n",
    "        create_directories([self.config.artifacts_root])\n",
    "\n",
    "    def get_data_transformation_config(self) -> DataTransformationConfig:\n",
    "        config = self.config.data_transformation\n",
    "        create_directories([config.root_dir])\n",
    "\n",
    "        data_transformation_config = DataTransformationConfig(\n",
    "            root_dir=config.root_dir,\n",
    "            data_path=config.data_path\n",
    "        )\n",
    "\n",
    "        return data_transformation_config"
   ]
  },
  {
   "cell_type": "code",
   "execution_count": 8,
   "metadata": {},
   "outputs": [],
   "source": [
    "import os \n",
    "from mlProject import logger\n",
    "from sklearn.model_selection import train_test_split\n",
    "import pandas as pd"
   ]
  },
  {
   "cell_type": "code",
   "execution_count": 9,
   "metadata": {},
   "outputs": [],
   "source": [
    "class DataTransformation:\n",
    "    def __init__(self, config: DataTransformationConfig):\n",
    "        self.config = config\n",
    "        \n",
    "    def transform(self):\n",
    "        df = pd.read_csv(self.config.data_path)\n",
    "        X = df.drop(columns=LABEL_COLUMN)\n",
    "        y = df[LABEL_COLUMN]\n",
    "        X_train, X_test, y_train, y_test = train_test_split(X, y, test_size=0.2, random_state=42)\n",
    "        logger.info(f\"X_train shape: {X_train.shape}\")\n",
    "        logger.info(f\"X_test shape: {X_test.shape}\")\n",
    "        logger.info(f\"y_train shape: {y_train.shape}\")\n",
    "        logger.info(f\"y_test shape: {y_test.shape}\")\n",
    "        return X_train, X_test, y_train, y_test\n",
    "    def save(self):\n",
    "        pd.DataFrame(self.transform()).to_csv(self.config.data_path)\n",
    "        logger.info(f\"Data transformation saved to {self.config.data_path}\")\n",
    "    def load(self):\n",
    "        df = pd.read_csv(self.config.data_path)\n",
    "        return df\n",
    "\n",
    "\n",
    "    def train_test_splitting(self):\n",
    "        data = pd.read_csv(self.config.data_path)\n",
    "        # split the data\n",
    "        train, test = train_test_split(data)\n",
    "        train.to_csv(os.path.join(self.config.root_dir, \"train.csv\"), index=False, header=False)\n",
    "        test.to_csv(os.path.join(self.config.root_dir, \"test.csv\"), index=False, header=False)\n",
    "\n",
    "    \n",
    "\n",
    "        logger.info(f\"Data splitted in {self.config.root_dir}\")\n",
    "        logger.info(f\"Train: {os.path.join(self.config.root_dir, 'train.csv')}\")\n",
    "        logger.info(f\"Test: {os.path.join(self.config.root_dir, 'test.csv')}\")\n",
    "        logger.info(train.shape)\n",
    "        logger.info(test.shape)\n",
    "\n",
    "        print(train.shape)\n",
    "        print(test.shape)"
   ]
  },
  {
   "cell_type": "code",
   "execution_count": 10,
   "metadata": {},
   "outputs": [
    {
     "name": "stdout",
     "output_type": "stream",
     "text": [
      "[2024-03-09 12:05:23,841: INFO: common: yaml file: config\\config.yaml loaded successfully]\n",
      "[2024-03-09 12:05:23,849: INFO: common: yaml file: params.yaml loaded successfully]\n",
      "[2024-03-09 12:05:23,853: INFO: common: created directory at: artifacts]\n",
      "[2024-03-09 12:05:23,857: INFO: common: created directory at: artifacts/data_transformation]\n",
      "[2024-03-09 12:05:23,953: INFO: 693874325: Data splitted in artifacts/data_transformation]\n",
      "[2024-03-09 12:05:23,956: INFO: 693874325: Train: artifacts/data_transformation\\train.csv]\n",
      "[2024-03-09 12:05:23,959: INFO: 693874325: Test: artifacts/data_transformation\\test.csv]\n",
      "[2024-03-09 12:05:23,962: INFO: 693874325: (1199, 12)]\n",
      "[2024-03-09 12:05:23,965: INFO: 693874325: (400, 12)]\n",
      "(1199, 12)\n",
      "(400, 12)\n"
     ]
    }
   ],
   "source": [
    "try:\n",
    "    config = ConfigurationManager()\n",
    "    data_transformation_config = config.get_data_transformation_config()\n",
    "    data_transformation = DataTransformation(config=data_transformation_config)\n",
    "    data_transformation.train_test_splitting()\n",
    "\n",
    "except Exception as e:\n",
    "    raise e"
   ]
  },
  {
   "cell_type": "code",
   "execution_count": null,
   "metadata": {},
   "outputs": [],
   "source": []
  }
 ],
 "metadata": {
  "kernelspec": {
   "display_name": "MLproj",
   "language": "python",
   "name": "python3"
  },
  "language_info": {
   "codemirror_mode": {
    "name": "ipython",
    "version": 3
   },
   "file_extension": ".py",
   "mimetype": "text/x-python",
   "name": "python",
   "nbconvert_exporter": "python",
   "pygments_lexer": "ipython3",
   "version": "3.8.18"
  }
 },
 "nbformat": 4,
 "nbformat_minor": 2
}
